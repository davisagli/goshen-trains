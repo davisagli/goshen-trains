{
 "cells": [
  {
   "cell_type": "code",
   "execution_count": 1,
   "metadata": {
    "collapsed": false
   },
   "outputs": [],
   "source": [
    "from sklearn.externals import joblib\n",
    "import numpy as np\n",
    "import pandas as pd\n",
    "df = pd.read_pickle('data/trains.pkl')\n",
    "\n",
    "# This is the time sampling interval used- smaller intervals increase model accuracy, but increase processing time\n",
    "period = \"1S\"\n",
    "\n",
    "estimators = 10\n",
    "max_features = 4"
   ]
  },
  {
   "cell_type": "code",
   "execution_count": 2,
   "metadata": {
    "collapsed": true
   },
   "outputs": [],
   "source": [
    "# Setup filter for rows where it was turned off\n",
    "bad = df[df['duration'] < 0]\n",
    "\n",
    "enter_bad_count = bad.start.value_counts()\n",
    "exit_bad_count = bad.end.value_counts()\n",
    "bad2 = pd.concat([enter_bad_count, exit_bad_count], axis=1, keys=[\"turned_off\", \"turned_on\"])\n",
    "bad3 = bad2[\"turned_off\"].resample(period).fillna(method='ffill')\n",
    "bad3 = bad3.fillna(0)\n",
    "\n",
    "enter_count = df.start.value_counts().clip(upper=1)\n",
    "exit_count = df.end.value_counts()\n",
    "df2 = pd.concat([enter_count, exit_count], axis=1, keys=[\"train_present\", \"exit\"])\n",
    "\n",
    "# df2['train_present'][df2['train_present'] == 2] = 1\n",
    "counts = df2[\"train_present\"].resample(period).fillna(method='ffill')\n",
    "counts = counts.fillna(0)"
   ]
  },
  {
   "cell_type": "code",
   "execution_count": 3,
   "metadata": {
    "collapsed": false
   },
   "outputs": [
    {
     "name": "stdout",
     "output_type": "stream",
     "text": [
      "2507018\n"
     ]
    }
   ],
   "source": [
    "df3 = counts.to_frame()\n",
    "#Remove rows where tracking was off\n",
    "df3 = df3.join(bad3)\n",
    "df3 = df3[df3['turned_off'] != 1]\n",
    "del df3['turned_off']\n",
    "df3['dow'] = df3.index.dayofweek\n",
    "df3['minute'] = df3.index.minute + (60*df3.index.hour)\n",
    "df3['hour'] = df3.index.hour\n",
    "df3['5min'] = np.floor(df3['minute'] / 5)\n",
    "df3['2min'] = np.floor(df3['minute'] / 2)\n",
    "df3['15min'] = np.floor(df3['minute'] / 15)\n",
    "df3['30min'] = np.floor(df3['minute'] / 30)\n",
    "print(len(df3))"
   ]
  },
  {
   "cell_type": "code",
   "execution_count": 4,
   "metadata": {
    "collapsed": false
   },
   "outputs": [
    {
     "name": "stdout",
     "output_type": "stream",
     "text": [
      "2081809\n"
     ]
    }
   ],
   "source": [
    "from sklearn.utils import resample\n",
    "df_majority = df3[df3.train_present==0]\n",
    "print(df_majority.dow.count())\n",
    "df_minority = df3[df3.train_present==1]\n",
    "# Upsample minority class\n",
    "df_minority_upsampled = resample(df_minority, \n",
    "                                 replace=True,     # sample with replacement\n",
    "                                 n_samples=df_majority.dow.count(),    # to match majority class\n",
    "                                 random_state=123) # reproducible results\n",
    "# Combine majority class with upsampled minority class\n",
    "df_upsampled = pd.concat([df_majority, df_minority_upsampled])\n",
    "df3 = df_upsampled.copy()"
   ]
  },
  {
   "cell_type": "code",
   "execution_count": 5,
   "metadata": {
    "collapsed": false
   },
   "outputs": [
    {
     "name": "stdout",
     "output_type": "stream",
     "text": [
      "Number of observations in the training data: 3122680\n",
      "Number of observations in the test data: 1040938\n",
      "features: Index(['dow', 'minute', 'hour', '5min', '2min', '15min', '30min'], dtype='object')\n"
     ]
    }
   ],
   "source": [
    "df3['is_training'] = np.random.uniform(0, 1, len(df3)) <= .75\n",
    "# Create two new dataframes, one with the training rows, one with the test rows\n",
    "train, test = df3[df3['is_training']==True], df3[df3['is_training']==False]\n",
    "# Show the number of observations for the test and training dataframes\n",
    "print('Number of observations in the training data:', len(train))\n",
    "print('Number of observations in the test data:',len(test))\n",
    "y = pd.factorize(train['train_present'])[0]\n",
    "features = df3.columns[1:8]\n",
    "print(\"features:\", features)"
   ]
  },
  {
   "cell_type": "code",
   "execution_count": 6,
   "metadata": {
    "collapsed": false
   },
   "outputs": [
    {
     "name": "stdout",
     "output_type": "stream",
     "text": [
      "accuracy:  0.756280393261\n",
      "             precision    recall  f1-score   support\n",
      "\n",
      "          0       0.59      0.88      0.71    349065\n",
      "          1       0.92      0.69      0.79    691873\n",
      "\n",
      "avg / total       0.81      0.76      0.76   1040938\n",
      "\n",
      "feature importance\n",
      "[('dow', 0.32781286300283391), ('minute', 0.36271088460332895), ('hour', 0.0028835875575442156), ('5min', 0.077362398090605633), ('2min', 0.202304825747395), ('15min', 0.01943952094156786), ('30min', 0.0074859200567244603)]\n",
      "307826\n"
     ]
    },
    {
     "data": {
      "text/html": [
       "<div>\n",
       "<table border=\"1\" class=\"dataframe\">\n",
       "  <thead>\n",
       "    <tr style=\"text-align: right;\">\n",
       "      <th>Predicted</th>\n",
       "      <th>0</th>\n",
       "      <th>1</th>\n",
       "    </tr>\n",
       "    <tr>\n",
       "      <th>Actual</th>\n",
       "      <th></th>\n",
       "      <th></th>\n",
       "    </tr>\n",
       "  </thead>\n",
       "  <tbody>\n",
       "    <tr>\n",
       "      <th>0.0</th>\n",
       "      <td>307826</td>\n",
       "      <td>212458</td>\n",
       "    </tr>\n",
       "    <tr>\n",
       "      <th>1.0</th>\n",
       "      <td>41239</td>\n",
       "      <td>479415</td>\n",
       "    </tr>\n",
       "  </tbody>\n",
       "</table>\n",
       "</div>"
      ],
      "text/plain": [
       "Predicted       0       1\n",
       "Actual                   \n",
       "0.0        307826  212458\n",
       "1.0         41239  479415"
      ]
     },
     "execution_count": 6,
     "metadata": {},
     "output_type": "execute_result"
    }
   ],
   "source": [
    "#### Random forest\n",
    "from sklearn.ensemble import RandomForestClassifier\n",
    "from sklearn.metrics import accuracy_score, classification_report\n",
    "\n",
    "from datetime import datetime\n",
    "\n",
    "# Create a random forest Classifier. By convention, clf means 'Classifier'\n",
    "clf = RandomForestClassifier(n_jobs=2, random_state=0,n_estimators=estimators, max_features=max_features)\n",
    "\n",
    "# Train the Classifier to take the training features and learn how they relate\n",
    "# to the training y (the species)\n",
    "clf.fit(train[features], y)\n",
    "predict=clf.predict(test[features])\n",
    "joblib.dump(clf, 'models/randomtree-'+str(estimators)+'-'+str(max_features)+'-'+str(datetime.now().date())+'.pkl') \n",
    "print('accuracy: ', accuracy_score(predict,test['train_present']))\n",
    "print(classification_report(predict,test['train_present']))\n",
    "print('feature importance')\n",
    "print(list(zip(train[features], clf.feature_importances_)))\n",
    "x=pd.crosstab(test['train_present'], predict, rownames=['Actual'], colnames=['Predicted'])\n",
    "print(x[0][0])\n",
    "x"
   ]
  }
 ],
 "metadata": {
  "kernelspec": {
   "display_name": "Python 3",
   "language": "python",
   "name": "python3"
  },
  "language_info": {
   "codemirror_mode": {
    "name": "ipython",
    "version": 3
   },
   "file_extension": ".py",
   "mimetype": "text/x-python",
   "name": "python",
   "nbconvert_exporter": "python",
   "pygments_lexer": "ipython3",
   "version": "3.6.0"
  }
 },
 "nbformat": 4,
 "nbformat_minor": 2
}
