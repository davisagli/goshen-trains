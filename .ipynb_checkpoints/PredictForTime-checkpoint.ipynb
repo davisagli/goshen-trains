{
 "cells": [
  {
   "cell_type": "code",
   "execution_count": 1,
   "metadata": {
    "collapsed": false
   },
   "outputs": [],
   "source": [
    "from datetime import datetime\n",
    "import math\n",
    "from sklearn.externals import joblib\n",
    "clf = joblib.load('models/randomtree-10-4-'+str(datetime.now().date())+'.pkl')\n",
    "\n",
    "def predict(time=datetime.now()):\n",
    "    dow = time.weekday()\n",
    "    hour = time.hour\n",
    "    minute = time.minute + hour*60\n",
    "    m5= math.floor(minute/ 5)\n",
    "    m2 = math.floor(minute/ 2)\n",
    "    m15 = math.floor(minute/ 15)\n",
    "    m30 = math.floor(minute/ 30)\n",
    "    now = [[dow,minute,hour, m5, m2, m15,m30]]\n",
    "    print(list(zip(clf.classes_, clf.predict_proba(now)[0])))"
   ]
  },
  {
   "cell_type": "code",
   "execution_count": 2,
   "metadata": {
    "collapsed": false
   },
   "outputs": [
    {
     "name": "stdout",
     "output_type": "stream",
     "text": [
      "[(0, 1.0), (1, 0.0)]\n"
     ]
    }
   ],
   "source": [
    "predict()"
   ]
  }
 ],
 "metadata": {
  "kernelspec": {
   "display_name": "Python 3",
   "language": "python",
   "name": "python3"
  },
  "language_info": {
   "codemirror_mode": {
    "name": "ipython",
    "version": 3
   },
   "file_extension": ".py",
   "mimetype": "text/x-python",
   "name": "python",
   "nbconvert_exporter": "python",
   "pygments_lexer": "ipython3",
   "version": "3.6.0"
  }
 },
 "nbformat": 4,
 "nbformat_minor": 2
}
