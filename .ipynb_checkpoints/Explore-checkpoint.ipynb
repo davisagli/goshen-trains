{
 "cells": [
  {
   "cell_type": "code",
   "execution_count": 5,
   "metadata": {
    "collapsed": false
   },
   "outputs": [],
   "source": [
    "import requests\n",
    "from bs4 import BeautifulSoup\n",
    "\n",
    "\n",
    "page = requests.get('https://drive.google.com/embeddedfolderview?hl=en&id=0B3MD5SqWQFDHNENjcDRuRzMyY00#list')\n",
    "soup = BeautifulSoup(page.content, 'html.parser')"
   ]
  },
  {
   "cell_type": "code",
   "execution_count": 12,
   "metadata": {
    "collapsed": false
   },
   "outputs": [
    {
     "name": "stdout",
     "output_type": "stream",
     "text": [
      "['https://drive.google.com/file/d/0B3MD5SqWQFDHZEUtY0RpUEI2eDg/view?usp=drive_web', 'https://drive.google.com/file/d/0B3MD5SqWQFDHbENFNVJiNVVTRWs/view?usp=drive_web', 'https://drive.google.com/file/d/0B3MD5SqWQFDHbEJZRHBYendqYWs/view?usp=drive_web', 'https://drive.google.com/file/d/0B3MD5SqWQFDHYXBGOGNxbTgybUE/view?usp=drive_web', 'https://drive.google.com/file/d/0B3MD5SqWQFDHUHlQVG5fVXh3RVk/view?usp=drive_web', 'https://drive.google.com/file/d/0B3MD5SqWQFDHZXE5TEtsb0taa00/view?usp=drive_web', 'https://drive.google.com/file/d/0B3MD5SqWQFDHRHo2OVdWT3h3d1E/view?usp=drive_web', 'https://drive.google.com/file/d/0B3MD5SqWQFDHekxNOWNLaXNLTkE/view?usp=drive_web', 'https://drive.google.com/file/d/0B3MD5SqWQFDHWE5hd2FuT0pKMmM/view?usp=drive_web', 'https://drive.google.com/file/d/0B3MD5SqWQFDHdGpjQ1lzaXVZMkk/view?usp=drive_web', 'https://drive.google.com/file/d/0B3MD5SqWQFDHUElMdlJ3UzZiZVk/view?usp=drive_web', 'https://drive.google.com/file/d/0B3MD5SqWQFDHdzVKaEV2LUNCZkU/view?usp=drive_web', 'https://drive.google.com/file/d/0B3MD5SqWQFDHRnlkQUVkVXl1blE/view?usp=drive_web', 'https://drive.google.com/file/d/0B3MD5SqWQFDHU0FGdXo2YlBBNms/view?usp=drive_web', 'https://drive.google.com/file/d/0B3MD5SqWQFDHRFBoOUN5dHlRWHM/view?usp=drive_web', 'https://drive.google.com/file/d/0B3MD5SqWQFDHNk1aNURJamhJb00/view?usp=drive_web', 'https://drive.google.com/file/d/0B3MD5SqWQFDHd3J5WWtaR29CVmM/view?usp=drive_web', 'https://drive.google.com/file/d/0B3MD5SqWQFDHVTZra1FCMU9jVW8/view?usp=drive_web', 'https://drive.google.com/file/d/0B3MD5SqWQFDHdGhpb0NZdFdaUzg/view?usp=drive_web', 'https://drive.google.com/file/d/0B3MD5SqWQFDHcF9SVWk1YjR6RUk/view?usp=drive_web', 'https://drive.google.com/file/d/0B3MD5SqWQFDHejQwTmFsUU5Ybnc/view?usp=drive_web', 'https://drive.google.com/file/d/0B3MD5SqWQFDHVXZEVUVaUGR1bEk/view?usp=drive_web', 'https://drive.google.com/file/d/0B3MD5SqWQFDHa0FrUHBoXzJGTkE/view?usp=drive_web', 'https://drive.google.com/file/d/0B3MD5SqWQFDHMTFiYzZEMnU1NWM/view?usp=drive_web', 'https://drive.google.com/file/d/16s4SEFtUXypZysKRD_kOyqUysBAhLNgi/view?usp=drive_web', 'https://drive.google.com/file/d/1ReEGKq0ykPlniLo0IOrVTNv_eMRHulyJ/view?usp=drive_web']\n"
     ]
    }
   ],
   "source": [
    "files = soup.select(\".flip-entry-info a\")\n",
    "links = [d['href'] for d in files]"
   ]
  },
  {
   "cell_type": "code",
   "execution_count": 32,
   "metadata": {
    "collapsed": false
   },
   "outputs": [
    {
     "data": {
      "text/html": [
       "<div>\n",
       "<table border=\"1\" class=\"dataframe\">\n",
       "  <thead>\n",
       "    <tr style=\"text-align: right;\">\n",
       "      <th></th>\n",
       "      <th>duration</th>\n",
       "    </tr>\n",
       "  </thead>\n",
       "  <tbody>\n",
       "    <tr>\n",
       "      <th>count</th>\n",
       "      <td>1709.000000</td>\n",
       "    </tr>\n",
       "    <tr>\n",
       "      <th>mean</th>\n",
       "      <td>-15.078408</td>\n",
       "    </tr>\n",
       "    <tr>\n",
       "      <th>std</th>\n",
       "      <td>2300.109256</td>\n",
       "    </tr>\n",
       "    <tr>\n",
       "      <th>min</th>\n",
       "      <td>-39600.000000</td>\n",
       "    </tr>\n",
       "    <tr>\n",
       "      <th>25%</th>\n",
       "      <td>116.000000</td>\n",
       "    </tr>\n",
       "    <tr>\n",
       "      <th>50%</th>\n",
       "      <td>160.000000</td>\n",
       "    </tr>\n",
       "    <tr>\n",
       "      <th>75%</th>\n",
       "      <td>222.000000</td>\n",
       "    </tr>\n",
       "    <tr>\n",
       "      <th>max</th>\n",
       "      <td>10280.000000</td>\n",
       "    </tr>\n",
       "  </tbody>\n",
       "</table>\n",
       "</div>"
      ],
      "text/plain": [
       "           duration\n",
       "count   1709.000000\n",
       "mean     -15.078408\n",
       "std     2300.109256\n",
       "min   -39600.000000\n",
       "25%      116.000000\n",
       "50%      160.000000\n",
       "75%      222.000000\n",
       "max    10280.000000"
      ]
     },
     "execution_count": 32,
     "metadata": {},
     "output_type": "execute_result"
    }
   ],
   "source": [
    "import pandas as pd\n",
    "res = []\n",
    "for l in links:\n",
    "    l = l.replace('file/d/','uc?id=').replace('/view?usp=drive_web','&export=download')\n",
    "    r = pd.read_csv(l,\n",
    "                    names=['start', 'end', 'duration'],\n",
    "                    parse_dates=['start', 'end'])\n",
    "    res.append(r)\n",
    "df = pd.concat(res, ignore_index=True)\n",
    "df.describe()"
   ]
  },
  {
   "cell_type": "code",
   "execution_count": 35,
   "metadata": {
    "collapsed": true
   },
   "outputs": [],
   "source": [
    "original = df.copy()"
   ]
  },
  {
   "cell_type": "code",
   "execution_count": 99,
   "metadata": {
    "collapsed": false
   },
   "outputs": [
    {
     "name": "stderr",
     "output_type": "stream",
     "text": [
      "/usr/local/lib/python3.6/site-packages/ipykernel/__main__.py:3: SettingWithCopyWarning: \n",
      "A value is trying to be set on a copy of a slice from a DataFrame.\n",
      "Try using .loc[row_indexer,col_indexer] = value instead\n",
      "\n",
      "See the caveats in the documentation: http://pandas.pydata.org/pandas-docs/stable/indexing.html#indexing-view-versus-copy\n",
      "  app.launch_new_instance()\n",
      "/usr/local/lib/python3.6/site-packages/ipykernel/__main__.py:4: SettingWithCopyWarning: \n",
      "A value is trying to be set on a copy of a slice from a DataFrame.\n",
      "Try using .loc[row_indexer,col_indexer] = value instead\n",
      "\n",
      "See the caveats in the documentation: http://pandas.pydata.org/pandas-docs/stable/indexing.html#indexing-view-versus-copy\n"
     ]
    }
   ],
   "source": [
    "# Remove times when no data collected.\n",
    "df = df[df['duration'] >= 0]\n",
    "df['day_of_week'] = df['start'].dt.dayofweek\n",
    "df['date'] = df['start'].dt.date"
   ]
  },
  {
   "cell_type": "code",
   "execution_count": 100,
   "metadata": {
    "collapsed": false
   },
   "outputs": [
    {
     "data": {
      "text/html": [
       "<div>\n",
       "<table border=\"1\" class=\"dataframe\">\n",
       "  <thead>\n",
       "    <tr style=\"text-align: right;\">\n",
       "      <th></th>\n",
       "      <th>start</th>\n",
       "      <th>end</th>\n",
       "      <th>duration</th>\n",
       "      <th>day_of_week</th>\n",
       "      <th>date</th>\n",
       "    </tr>\n",
       "  </thead>\n",
       "  <tbody>\n",
       "    <tr>\n",
       "      <th>0</th>\n",
       "      <td>2017-10-10 00:10:33</td>\n",
       "      <td>2017-10-10 00:12:58</td>\n",
       "      <td>145</td>\n",
       "      <td>1</td>\n",
       "      <td>2017-10-10</td>\n",
       "    </tr>\n",
       "    <tr>\n",
       "      <th>1</th>\n",
       "      <td>2017-10-10 00:25:49</td>\n",
       "      <td>2017-10-10 00:27:25</td>\n",
       "      <td>96</td>\n",
       "      <td>1</td>\n",
       "      <td>2017-10-10</td>\n",
       "    </tr>\n",
       "    <tr>\n",
       "      <th>2</th>\n",
       "      <td>2017-10-10 00:53:04</td>\n",
       "      <td>2017-10-10 00:57:40</td>\n",
       "      <td>276</td>\n",
       "      <td>1</td>\n",
       "      <td>2017-10-10</td>\n",
       "    </tr>\n",
       "    <tr>\n",
       "      <th>3</th>\n",
       "      <td>2017-10-10 01:07:53</td>\n",
       "      <td>2017-10-10 01:09:02</td>\n",
       "      <td>69</td>\n",
       "      <td>1</td>\n",
       "      <td>2017-10-10</td>\n",
       "    </tr>\n",
       "    <tr>\n",
       "      <th>4</th>\n",
       "      <td>2017-10-10 01:23:22</td>\n",
       "      <td>2017-10-10 01:29:43</td>\n",
       "      <td>381</td>\n",
       "      <td>1</td>\n",
       "      <td>2017-10-10</td>\n",
       "    </tr>\n",
       "  </tbody>\n",
       "</table>\n",
       "</div>"
      ],
      "text/plain": [
       "                start                 end  duration  day_of_week        date\n",
       "0 2017-10-10 00:10:33 2017-10-10 00:12:58       145            1  2017-10-10\n",
       "1 2017-10-10 00:25:49 2017-10-10 00:27:25        96            1  2017-10-10\n",
       "2 2017-10-10 00:53:04 2017-10-10 00:57:40       276            1  2017-10-10\n",
       "3 2017-10-10 01:07:53 2017-10-10 01:09:02        69            1  2017-10-10\n",
       "4 2017-10-10 01:23:22 2017-10-10 01:29:43       381            1  2017-10-10"
      ]
     },
     "execution_count": 100,
     "metadata": {},
     "output_type": "execute_result"
    }
   ],
   "source": [
    "df.head()"
   ]
  },
  {
   "cell_type": "code",
   "execution_count": 101,
   "metadata": {
    "collapsed": false
   },
   "outputs": [
    {
     "data": {
      "text/plain": [
       "[<matplotlib.lines.Line2D at 0x10af24a58>]"
      ]
     },
     "execution_count": 101,
     "metadata": {},
     "output_type": "execute_result"
    },
    {
     "data": {
      "image/png": "[encoded data removed]",
      "text/plain": [
       "<matplotlib.figure.Figure at 0x10ad2df98>"
      ]
     },
     "metadata": {},
     "output_type": "display_data"
    }
   ],
   "source": [
    "import matplotlib.pyplot as plt\n",
    "%matplotlib inline\n",
    "\n",
    "count = df.groupby(df['day_of_week']).count()\n",
    "count.head()\n",
    "plt.plot(count['start'])"
   ]
  },
  {
   "cell_type": "code",
   "execution_count": 102,
   "metadata": {
    "collapsed": false
   },
   "outputs": [
    {
     "data": {
      "text/plain": [
       "[<matplotlib.lines.Line2D at 0x10b013358>]"
      ]
     },
     "execution_count": 102,
     "metadata": {},
     "output_type": "execute_result"
    },
    {
     "data": {
      "image/png": "[encoded data removed]",
      "text/plain": [
       "<matplotlib.figure.Figure at 0x10af35f98>"
      ]
     },
     "metadata": {},
     "output_type": "display_data"
    }
   ],
   "source": [
    "daily = df.set_index('start').groupby(pd.Grouper(freq='D')).count()\n",
    "daily['day_of_week'] = daily.index.dayofweek\n",
    "dowly = daily.groupby('day_of_week')\n",
    "plt.plot(dowly.mean()['end'])\n",
    "plt.plot(dowly.max()['end'])\n",
    "plt.plot(dowly.min()['end'])"
   ]
  },
  {
   "cell_type": "code",
   "execution_count": 103,
   "metadata": {
    "collapsed": false
   },
   "outputs": [
    {
     "data": {
      "text/plain": [
       "[<matplotlib.lines.Line2D at 0x10b10dc88>]"
      ]
     },
     "execution_count": 103,
     "metadata": {},
     "output_type": "execute_result"
    },
    {
     "data": {
      "image/png": "[encoded data removed]",
      "text/plain": [
       "<matplotlib.figure.Figure at 0x10af76940>"
      ]
     },
     "metadata": {},
     "output_type": "display_data"
    }
   ],
   "source": [
    "# Check for average duration by day\n",
    "daily = df.set_index('start').groupby(pd.Grouper(freq='D')).mean()\n",
    "daily['day_of_week'] = daily.index.dayofweek\n",
    "dowly = daily.groupby('day_of_week')\n",
    "plt.plot(dowly.mean()['duration'])\n",
    "plt.plot(dowly.max()['duration'])\n",
    "plt.plot(dowly.min()['duration'])"
   ]
  },
  {
   "cell_type": "code",
   "execution_count": 98,
   "metadata": {
    "collapsed": false
   },
   "outputs": [
    {
     "name": "stdout",
     "output_type": "stream",
     "text": [
      "start          19\n",
      "end            19\n",
      "duration       19\n",
      "day_of_week    19\n",
      "date           19\n",
      "dtype: int64\n"
     ]
    }
   ],
   "source": []
  },
  {
   "cell_type": "code",
   "execution_count": null,
   "metadata": {
    "collapsed": true
   },
   "outputs": [],
   "source": []
  }
 ],
 "metadata": {
  "kernelspec": {
   "display_name": "Python 3",
   "language": "python",
   "name": "python3"
  },
  "language_info": {
   "codemirror_mode": {
    "name": "ipython",
    "version": 3
   },
   "file_extension": ".py",
   "mimetype": "text/x-python",
   "name": "python",
   "nbconvert_exporter": "python",
   "pygments_lexer": "ipython3",
   "version": "3.6.0"
  }
 },
 "nbformat": 4,
 "nbformat_minor": 2
}
