{
 "cells": [
  {
   "cell_type": "code",
   "execution_count": 131,
   "metadata": {
    "collapsed": false
   },
   "outputs": [],
   "source": [
    "import pandas as pd\n",
    "df = pd.read_pickle('trains.pkl')\n",
    "\n",
    "df = df[df['duration'] >= 0]"
   ]
  },
  {
   "cell_type": "code",
   "execution_count": 154,
   "metadata": {
    "collapsed": false
   },
   "outputs": [
    {
     "name": "stdout",
     "output_type": "stream",
     "text": [
      "                     enter  exit  train\n",
      "2017-10-09 00:06:23    1.0   0.0    1.0\n",
      "2017-10-09 00:11:14    0.0   1.0   -1.0\n",
      "2017-10-09 00:38:23    1.0   0.0    1.0\n",
      "2017-10-09 00:39:34    0.0   1.0   -1.0\n",
      "2017-10-09 00:41:01    1.0   0.0    1.0\n",
      "2017-10-09 00:06:00    1.0\n",
      "2017-10-09 00:07:00    0.0\n",
      "2017-10-09 00:08:00    0.0\n",
      "2017-10-09 00:09:00    0.0\n",
      "2017-10-09 00:10:00    0.0\n",
      "2017-10-09 00:11:00   -1.0\n",
      "2017-10-09 00:12:00    0.0\n",
      "2017-10-09 00:13:00    0.0\n",
      "2017-10-09 00:14:00    0.0\n",
      "2017-10-09 00:15:00    0.0\n",
      "2017-10-09 00:16:00    0.0\n",
      "2017-10-09 00:17:00    0.0\n",
      "2017-10-09 00:18:00    0.0\n",
      "2017-10-09 00:19:00    0.0\n",
      "2017-10-09 00:20:00    0.0\n",
      "2017-10-09 00:21:00    0.0\n",
      "2017-10-09 00:22:00    0.0\n",
      "2017-10-09 00:23:00    0.0\n",
      "2017-10-09 00:24:00    0.0\n",
      "2017-10-09 00:25:00    0.0\n",
      "2017-10-09 00:26:00    0.0\n",
      "2017-10-09 00:27:00    0.0\n",
      "2017-10-09 00:28:00    0.0\n",
      "2017-10-09 00:29:00    0.0\n",
      "2017-10-09 00:30:00    0.0\n",
      "2017-10-09 00:31:00    0.0\n",
      "2017-10-09 00:32:00    0.0\n",
      "2017-10-09 00:33:00    0.0\n",
      "2017-10-09 00:34:00    0.0\n",
      "2017-10-09 00:35:00    0.0\n",
      "2017-10-09 00:36:00    0.0\n",
      "2017-10-09 00:37:00    0.0\n",
      "2017-10-09 00:38:00    1.0\n",
      "2017-10-09 00:39:00   -1.0\n",
      "2017-10-09 00:40:00    0.0\n",
      "2017-10-09 00:41:00    1.0\n",
      "2017-10-09 00:42:00    0.0\n",
      "2017-10-09 00:43:00    0.0\n",
      "2017-10-09 00:44:00    0.0\n",
      "2017-10-09 00:45:00   -1.0\n",
      "2017-10-09 00:46:00    0.0\n",
      "2017-10-09 00:47:00    1.0\n",
      "2017-10-09 00:48:00    0.0\n",
      "2017-10-09 00:49:00    0.0\n",
      "2017-10-09 00:50:00   -1.0\n",
      "2017-10-09 00:51:00    0.0\n",
      "2017-10-09 00:52:00    0.0\n",
      "2017-10-09 00:53:00    0.0\n",
      "2017-10-09 00:54:00    0.0\n",
      "2017-10-09 00:55:00    0.0\n",
      "Freq: T, Name: train, dtype: float64\n"
     ]
    }
   ],
   "source": [
    "import matplotlib.pyplot as plt\n",
    "%matplotlib inline\n",
    "enter_count = df.start.value_counts()\n",
    "exit_count = df.end.value_counts()\n",
    "df2 = pd.concat([enter_count, exit_count], axis=1, keys=[\"enter\", \"exit\"])\n",
    "\n",
    "df2.fillna(0, inplace=True)\n",
    "\n",
    "df2[\"train\"] = df2[\"enter\"] - df2[\"exit\"]\n",
    "print(df2.head())\n",
    "counts = df2[\"train\"].resample(\"1min\").sum().fillna(0)\n",
    "print(counts.head(50))"
   ]
  },
  {
   "cell_type": "code",
   "execution_count": 146,
   "metadata": {
    "collapsed": false
   },
   "outputs": [
    {
     "name": "stdout",
     "output_type": "stream",
     "text": [
      "38865\n"
     ]
    },
    {
     "data": {
      "text/html": [
       "<div>\n",
       "<table border=\"1\" class=\"dataframe\">\n",
       "  <thead>\n",
       "    <tr style=\"text-align: right;\">\n",
       "      <th></th>\n",
       "      <th>train</th>\n",
       "      <th>dow</th>\n",
       "      <th>minute</th>\n",
       "      <th>hour</th>\n",
       "    </tr>\n",
       "  </thead>\n",
       "  <tbody>\n",
       "    <tr>\n",
       "      <th>2017-11-04 23:46:00</th>\n",
       "      <td>0.0</td>\n",
       "      <td>5</td>\n",
       "      <td>1426</td>\n",
       "      <td>23</td>\n",
       "    </tr>\n",
       "    <tr>\n",
       "      <th>2017-11-04 23:47:00</th>\n",
       "      <td>0.0</td>\n",
       "      <td>5</td>\n",
       "      <td>1427</td>\n",
       "      <td>23</td>\n",
       "    </tr>\n",
       "    <tr>\n",
       "      <th>2017-11-04 23:48:00</th>\n",
       "      <td>1.0</td>\n",
       "      <td>5</td>\n",
       "      <td>1428</td>\n",
       "      <td>23</td>\n",
       "    </tr>\n",
       "    <tr>\n",
       "      <th>2017-11-04 23:49:00</th>\n",
       "      <td>1.0</td>\n",
       "      <td>5</td>\n",
       "      <td>1429</td>\n",
       "      <td>23</td>\n",
       "    </tr>\n",
       "    <tr>\n",
       "      <th>2017-11-04 23:50:00</th>\n",
       "      <td>0.0</td>\n",
       "      <td>5</td>\n",
       "      <td>1430</td>\n",
       "      <td>23</td>\n",
       "    </tr>\n",
       "  </tbody>\n",
       "</table>\n",
       "</div>"
      ],
      "text/plain": [
       "                     train  dow  minute  hour\n",
       "2017-11-04 23:46:00    0.0    5    1426    23\n",
       "2017-11-04 23:47:00    0.0    5    1427    23\n",
       "2017-11-04 23:48:00    1.0    5    1428    23\n",
       "2017-11-04 23:49:00    1.0    5    1429    23\n",
       "2017-11-04 23:50:00    0.0    5    1430    23"
      ]
     },
     "execution_count": 146,
     "metadata": {},
     "output_type": "execute_result"
    }
   ],
   "source": [
    "df3 = counts.to_frame()\n",
    "df3['dow'] = df3.index.dayofweek\n",
    "df3['minute'] = df3.index.minute + (60*df3.index.hour)\n",
    "df3['hour'] = df3.index.hour\n",
    "print(len(df3))\n",
    "df3.tail()"
   ]
  },
  {
   "cell_type": "code",
   "execution_count": 147,
   "metadata": {
    "collapsed": false
   },
   "outputs": [
    {
     "name": "stdout",
     "output_type": "stream",
     "text": [
      "Number of observations in the training data: 29207\n",
      "Number of observations in the test data: 9658\n"
     ]
    }
   ],
   "source": [
    "import numpy as np\n",
    "\n",
    "df3['is_training'] = np.random.uniform(0, 1, len(df3)) <= .75\n",
    "# Create two new dataframes, one with the training rows, one with the test rows\n",
    "train, test = df3[df3['is_training']==True], df3[df3['is_training']==False]\n",
    "# Show the number of observations for the test and training dataframes\n",
    "print('Number of observations in the training data:', len(train))\n",
    "print('Number of observations in the test data:',len(test))"
   ]
  },
  {
   "cell_type": "code",
   "execution_count": 148,
   "metadata": {
    "collapsed": false
   },
   "outputs": [
    {
     "name": "stdout",
     "output_type": "stream",
     "text": [
      "Index(['dow', 'minute', 'hour'], dtype='object')\n"
     ]
    }
   ],
   "source": [
    "y = pd.factorize(train['train'])[0]\n",
    "features = df3.columns[1:4]\n",
    "print(features)"
   ]
  },
  {
   "cell_type": "code",
   "execution_count": 149,
   "metadata": {
    "collapsed": false
   },
   "outputs": [
    {
     "data": {
      "text/plain": [
       "RandomForestClassifier(bootstrap=True, class_weight=None, criterion='gini',\n",
       "            max_depth=None, max_features='auto', max_leaf_nodes=None,\n",
       "            min_impurity_split=1e-07, min_samples_leaf=1,\n",
       "            min_samples_split=2, min_weight_fraction_leaf=0.0,\n",
       "            n_estimators=10, n_jobs=2, oob_score=False, random_state=0,\n",
       "            verbose=0, warm_start=False)"
      ]
     },
     "execution_count": 149,
     "metadata": {},
     "output_type": "execute_result"
    }
   ],
   "source": [
    "from sklearn.ensemble import RandomForestClassifier\n",
    "\n",
    "from sklearn.metrics import accuracy_score\n",
    "\n",
    "\n",
    "# Create a random forest Classifier. By convention, clf means 'Classifier'\n",
    "clf = RandomForestClassifier(n_jobs=2, random_state=0)\n",
    "\n",
    "# Train the Classifier to take the training features and learn how they relate\n",
    "# to the training y (the species)\n",
    "clf.fit(train[features], y)"
   ]
  },
  {
   "cell_type": "code",
   "execution_count": 150,
   "metadata": {
    "collapsed": false
   },
   "outputs": [
    {
     "data": {
      "text/plain": [
       "0.22406295299233797"
      ]
     },
     "execution_count": 150,
     "metadata": {},
     "output_type": "execute_result"
    }
   ],
   "source": [
    "predict=clf.predict(test[features])\n",
    "accuracy_score(predict,test['train'])"
   ]
  },
  {
   "cell_type": "code",
   "execution_count": 151,
   "metadata": {
    "collapsed": false
   },
   "outputs": [
    {
     "data": {
      "text/html": [
       "<div>\n",
       "<table border=\"1\" class=\"dataframe\">\n",
       "  <thead>\n",
       "    <tr style=\"text-align: right;\">\n",
       "      <th>Predicted</th>\n",
       "      <th>0</th>\n",
       "      <th>1</th>\n",
       "    </tr>\n",
       "    <tr>\n",
       "      <th>Actual</th>\n",
       "      <th></th>\n",
       "      <th></th>\n",
       "    </tr>\n",
       "  </thead>\n",
       "  <tbody>\n",
       "    <tr>\n",
       "      <th>0.0</th>\n",
       "      <td>885</td>\n",
       "      <td>7319</td>\n",
       "    </tr>\n",
       "    <tr>\n",
       "      <th>1.0</th>\n",
       "      <td>175</td>\n",
       "      <td>1279</td>\n",
       "    </tr>\n",
       "  </tbody>\n",
       "</table>\n",
       "</div>"
      ],
      "text/plain": [
       "Predicted    0     1\n",
       "Actual              \n",
       "0.0        885  7319\n",
       "1.0        175  1279"
      ]
     },
     "execution_count": 151,
     "metadata": {},
     "output_type": "execute_result"
    }
   ],
   "source": [
    "pd.crosstab(test['train'], predict, rownames=['Actual'], colnames=['Predicted'])"
   ]
  },
  {
   "cell_type": "code",
   "execution_count": 152,
   "metadata": {
    "collapsed": false
   },
   "outputs": [
    {
     "data": {
      "text/plain": [
       "[('dow', 0.10396590195055908),\n",
       " ('minute', 0.86857157066408619),\n",
       " ('hour', 0.027462527385354835)]"
      ]
     },
     "execution_count": 152,
     "metadata": {},
     "output_type": "execute_result"
    }
   ],
   "source": [
    "list(zip(train[features], clf.feature_importances_))"
   ]
  },
  {
   "cell_type": "code",
   "execution_count": null,
   "metadata": {
    "collapsed": true
   },
   "outputs": [],
   "source": []
  }
 ],
 "metadata": {
  "kernelspec": {
   "display_name": "Python 3",
   "language": "python",
   "name": "python3"
  },
  "language_info": {
   "codemirror_mode": {
    "name": "ipython",
    "version": 3
   },
   "file_extension": ".py",
   "mimetype": "text/x-python",
   "name": "python",
   "nbconvert_exporter": "python",
   "pygments_lexer": "ipython3",
   "version": "3.6.0"
  }
 },
 "nbformat": 4,
 "nbformat_minor": 2
}
