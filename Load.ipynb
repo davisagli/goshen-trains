{
 "cells": [
  {
   "cell_type": "code",
   "execution_count": 1,
   "metadata": {
    "collapsed": false
   },
   "outputs": [
    {
     "name": "stdout",
     "output_type": "stream",
     "text": [
      "           duration\n",
      "count   1783.000000\n",
      "mean      -2.980931\n",
      "std     2257.811238\n",
      "min   -39600.000000\n",
      "25%      116.000000\n",
      "50%      161.000000\n",
      "75%      222.000000\n",
      "max    10280.000000\n"
     ]
    }
   ],
   "source": [
    "import requests\n",
    "from bs4 import BeautifulSoup\n",
    "\n",
    "\n",
    "page = requests.get('https://drive.google.com/embeddedfolderview?hl=en&id=0B3MD5SqWQFDHNENjcDRuRzMyY00#list')\n",
    "soup = BeautifulSoup(page.content, 'html.parser')\n",
    "files = soup.select(\".flip-entry-info a\")\n",
    "links = [d['href'] for d in files]\n",
    "import pandas as pd\n",
    "res = []\n",
    "for l in links:\n",
    "    l = l.replace('file/d/','uc?id=').replace('/view?usp=drive_web','&export=download')\n",
    "    r = pd.read_csv(l,\n",
    "                    names=['start', 'end', 'duration'],\n",
    "                    parse_dates=['start', 'end'])\n",
    "    res.append(r)\n",
    "df = pd.concat(res, ignore_index=True)\n",
    "print(df.describe())\n",
    "df.to_pickle('trains.pkl')"
   ]
  },
  {
   "cell_type": "code",
   "execution_count": null,
   "metadata": {
    "collapsed": true
   },
   "outputs": [],
   "source": []
  }
 ],
 "metadata": {
  "kernelspec": {
   "display_name": "Python 3",
   "language": "python",
   "name": "python3"
  },
  "language_info": {
   "codemirror_mode": {
    "name": "ipython",
    "version": 3
   },
   "file_extension": ".py",
   "mimetype": "text/x-python",
   "name": "python",
   "nbconvert_exporter": "python",
   "pygments_lexer": "ipython3",
   "version": "3.6.0"
  }
 },
 "nbformat": 4,
 "nbformat_minor": 2
}
