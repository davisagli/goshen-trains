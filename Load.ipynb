{
 "cells": [
  {
   "cell_type": "code",
   "execution_count": 1,
   "metadata": {
    "collapsed": false
   },
   "outputs": [
    {
     "name": "stdout",
     "output_type": "stream",
     "text": [
      "already loaded https://drive.google.com/uc?id=0B3MD5SqWQFDHZEUtY0RpUEI2eDg&export=download\n",
      "already loaded https://drive.google.com/uc?id=0B3MD5SqWQFDHbENFNVJiNVVTRWs&export=download\n",
      "already loaded https://drive.google.com/uc?id=0B3MD5SqWQFDHbEJZRHBYendqYWs&export=download\n",
      "already loaded https://drive.google.com/uc?id=0B3MD5SqWQFDHYXBGOGNxbTgybUE&export=download\n",
      "already loaded https://drive.google.com/uc?id=0B3MD5SqWQFDHUHlQVG5fVXh3RVk&export=download\n",
      "already loaded https://drive.google.com/uc?id=0B3MD5SqWQFDHZXE5TEtsb0taa00&export=download\n",
      "already loaded https://drive.google.com/uc?id=0B3MD5SqWQFDHRHo2OVdWT3h3d1E&export=download\n",
      "already loaded https://drive.google.com/uc?id=0B3MD5SqWQFDHekxNOWNLaXNLTkE&export=download\n",
      "already loaded https://drive.google.com/uc?id=0B3MD5SqWQFDHWE5hd2FuT0pKMmM&export=download\n",
      "already loaded https://drive.google.com/uc?id=0B3MD5SqWQFDHdGpjQ1lzaXVZMkk&export=download\n",
      "already loaded https://drive.google.com/uc?id=0B3MD5SqWQFDHUElMdlJ3UzZiZVk&export=download\n",
      "already loaded https://drive.google.com/uc?id=0B3MD5SqWQFDHdzVKaEV2LUNCZkU&export=download\n",
      "already loaded https://drive.google.com/uc?id=0B3MD5SqWQFDHRnlkQUVkVXl1blE&export=download\n",
      "already loaded https://drive.google.com/uc?id=0B3MD5SqWQFDHU0FGdXo2YlBBNms&export=download\n",
      "already loaded https://drive.google.com/uc?id=0B3MD5SqWQFDHRFBoOUN5dHlRWHM&export=download\n",
      "already loaded https://drive.google.com/uc?id=0B3MD5SqWQFDHNk1aNURJamhJb00&export=download\n",
      "already loaded https://drive.google.com/uc?id=0B3MD5SqWQFDHd3J5WWtaR29CVmM&export=download\n",
      "already loaded https://drive.google.com/uc?id=0B3MD5SqWQFDHVTZra1FCMU9jVW8&export=download\n",
      "already loaded https://drive.google.com/uc?id=0B3MD5SqWQFDHdGhpb0NZdFdaUzg&export=download\n",
      "already loaded https://drive.google.com/uc?id=0B3MD5SqWQFDHcF9SVWk1YjR6RUk&export=download\n",
      "already loaded https://drive.google.com/uc?id=0B3MD5SqWQFDHejQwTmFsUU5Ybnc&export=download\n",
      "already loaded https://drive.google.com/uc?id=0B3MD5SqWQFDHVXZEVUVaUGR1bEk&export=download\n",
      "already loaded https://drive.google.com/uc?id=0B3MD5SqWQFDHa0FrUHBoXzJGTkE&export=download\n",
      "already loaded https://drive.google.com/uc?id=0B3MD5SqWQFDHMTFiYzZEMnU1NWM&export=download\n",
      "already loaded https://drive.google.com/uc?id=1xlPp6jJaofNo-NyRFjKTkcwfL9Rq6L0X&export=download\n",
      "already loaded https://drive.google.com/uc?id=16s4SEFtUXypZysKRD_kOyqUysBAhLNgi&export=download\n",
      "already loaded https://drive.google.com/uc?id=1ReEGKq0ykPlniLo0IOrVTNv_eMRHulyJ&export=download\n",
      "already loaded https://drive.google.com/uc?id=1dFj01cu1clHXYdGbGTu8zbwITWnjSoRi&export=download\n",
      "already loaded https://drive.google.com/uc?id=126ef4ftxm-M6HICrFwx93G_sKZRWW0l2&export=download\n",
      "already loaded https://drive.google.com/uc?id=1XLdKc5JJ-rwRGEhUIKGD0wt1SZTZsQb7&export=download\n",
      "already loaded https://drive.google.com/uc?id=1wErFMcONP2dJ85DtVVaQuSl6g3owfrjo&export=download\n",
      "already loaded https://drive.google.com/uc?id=1gU2PwwOY6kWiB9FVdeWv6F1nD3yE5CFT&export=download\n",
      "already loaded https://drive.google.com/uc?id=16Tl2pUn-Rb9_BaQd1NqlZwN2FBYAahES&export=download\n",
      "           duration\n",
      "count   2236.000000\n",
      "mean      11.805009\n",
      "std     2095.978402\n",
      "min   -39600.000000\n",
      "25%      113.000000\n",
      "50%      159.000000\n",
      "75%      219.250000\n",
      "max    10280.000000\n"
     ]
    }
   ],
   "source": [
    "import requests\n",
    "from bs4 import BeautifulSoup\n",
    "import pickle\n",
    "import pandas as pd\n",
    "\n",
    "try:\n",
    "    saved_links = pickle.load(open(\"data/saved_links.pkl\", \"rb\"))\n",
    "except:\n",
    "    saved_links = []\n",
    "try:\n",
    "    df = pd.read_pickle('data/trains.pkl')\n",
    "except:\n",
    "    df = pd.DataFrame()\n",
    "\n",
    "page = requests.get('https://drive.google.com/embeddedfolderview?hl=en&id=0B3MD5SqWQFDHNENjcDRuRzMyY00#list')\n",
    "soup = BeautifulSoup(page.content, 'html.parser')\n",
    "files = soup.select(\".flip-entry-info a\")\n",
    "links = [d['href'] for d in files]\n",
    "\n",
    "res = []\n",
    "\n",
    "for l in links:\n",
    "    l = l.replace('file/d/','uc?id=').replace('/view?usp=drive_web','&export=download')\n",
    "    if l not in saved_links:\n",
    "        r = pd.read_csv(l,\n",
    "                        names=['start', 'end', 'duration'],\n",
    "                        parse_dates=['start', 'end'])\n",
    "        res.append(r)\n",
    "        saved_links.append(l)\n",
    "        print(\"loaded \", l)\n",
    "    else:\n",
    "        print(\"already loaded\", l)\n",
    "if len(res) > 0:    \n",
    "    newdf = pd.concat(res, ignore_index=True)\n",
    "    df = pd.concat([df, newdf], ignore_index=True)\n",
    "print(df.describe())\n",
    "df.to_pickle('data/trains.pkl')\n",
    "pickle.dump(saved_links, open('data/saved_links.pkl', \"wb\"))"
   ]
  },
  {
   "cell_type": "code",
   "execution_count": null,
   "metadata": {
    "collapsed": true
   },
   "outputs": [],
   "source": []
  }
 ],
 "metadata": {
  "kernelspec": {
   "display_name": "Python 3",
   "language": "python",
   "name": "python3"
  },
  "language_info": {
   "codemirror_mode": {
    "name": "ipython",
    "version": 3
   },
   "file_extension": ".py",
   "mimetype": "text/x-python",
   "name": "python",
   "nbconvert_exporter": "python",
   "pygments_lexer": "ipython3",
   "version": "3.6.0"
  }
 },
 "nbformat": 4,
 "nbformat_minor": 2
}
